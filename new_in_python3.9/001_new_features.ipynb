{
 "cells": [
  {
   "cell_type": "markdown",
   "metadata": {
    "collapsed": true,
    "pycharm": {
     "name": "#%% md\n"
    }
   },
   "source": [
    "### Dictionary Merge & Update operators\n",
    "- Merge: (|) aka pipe\n",
    "- Update: (|=) aka pipe-equals"
   ]
  },
  {
   "cell_type": "code",
   "execution_count": 1,
   "metadata": {
    "pycharm": {
     "name": "#%%\n"
    }
   },
   "outputs": [
    {
     "data": {
      "text/plain": [
       "{'key1': 'value1 from x', 'key2': 'value2 from y', 'key3': 'value3 from y'}"
      ]
     },
     "execution_count": 1,
     "metadata": {},
     "output_type": "execute_result"
    }
   ],
   "source": [
    "x = {\"key1\": \"value1 from x\", \"key2\": \"value2 from x\"}\n",
    "y = {\"key2\": \"value2 from y\", \"key3\": \"value3 from y\"}\n",
    "x | y"
   ]
  },
  {
   "cell_type": "code",
   "execution_count": 2,
   "metadata": {
    "pycharm": {
     "name": "#%%\n"
    }
   },
   "outputs": [
    {
     "data": {
      "text/plain": [
       "{'key2': 'value2 from x', 'key3': 'value3 from y', 'key1': 'value1 from x'}"
      ]
     },
     "execution_count": 2,
     "metadata": {},
     "output_type": "execute_result"
    }
   ],
   "source": [
    "y | x"
   ]
  },
  {
   "cell_type": "markdown",
   "metadata": {
    "pycharm": {
     "name": "#%% md\n"
    }
   },
   "source": [
    "### New String methods for prefix/suffix removal\n",
    "- str.removeprefix(prefix)\n",
    "- str.removesuffix(suffix)\n",
    "\n",
    "* also corresponding methods for: bytes, bytearray, and collections.UserString"
   ]
  },
  {
   "cell_type": "code",
   "execution_count": 3,
   "outputs": [
    {
     "name": "stdout",
     "output_type": "stream",
     "text": [
      "PREFIXA_90043B\n",
      "90043B\n"
     ]
    }
   ],
   "source": [
    "string1 = \"PREFIXA_90043B\"\n",
    "string2 = string1.removeprefix('PREFIXA_')\n",
    "\n",
    "print(string1)\n",
    "print(string2)"
   ],
   "metadata": {
    "collapsed": false,
    "pycharm": {
     "name": "#%%\n"
    }
   }
  },
  {
   "cell_type": "markdown",
   "source": [
    "### Type Hinting Generics in Standard Collection\n",
    "- no more importing capitalized types: List, Dict, queue.Queue, and others as well.\n",
    "- just use 'list', 'dict', etc. for type hinting"
   ],
   "metadata": {
    "collapsed": false,
    "pycharm": {
     "name": "#%% md\n"
    }
   }
  },
  {
   "cell_type": "code",
   "execution_count": 5,
   "outputs": [
    {
     "name": "stdout",
     "output_type": "stream",
     "text": [
      "Hello  Jane\n",
      "Hello  Mark\n",
      "Hello  John\n",
      "Hello  Jensen\n",
      "Hello  Micky\n"
     ]
    }
   ],
   "source": [
    "def greet_all(names: list[str]) -> None:\n",
    "    for name in names:\n",
    "        print(\"Hello \", name)\n",
    "\n",
    "names = [\"Jane\", \"Mark\", \"John\", \"Jensen\", \"Micky\"]\n",
    "greet_all(names)"
   ],
   "metadata": {
    "collapsed": false,
    "pycharm": {
     "name": "#%%\n"
    }
   }
  },
  {
   "cell_type": "markdown",
   "source": [
    "### New Parser\n",
    "- Python3.9's new parser is based on PEG instead of LL(1)\n",
    "- ast module uses new parser, produces same AST as old parser (whatever AST is...)\n",
    "- Python3.10 will remove old parser\n",
    "- can use old parser for now with CLI switch (-X oldparser)\n",
    "- ... or env var (PYTHONOLDPARSER=1)"
   ],
   "metadata": {
    "collapsed": false,
    "pycharm": {
     "name": "#%% md\n"
    }
   }
  },
  {
   "cell_type": "markdown",
   "source": [
    "### Other Changes\n",
    "* \\_\\_file__ attribute of \\_\\_main__ module is an absolute path.\n",
    "    * paths remain valid even after current directory is changed by os.chdir()\n",
    "* Dev Mode & Debug Mode: encoding & errors args checked for encoding/decoding operations. ie: open(), str.encode(), bytes.decode()\n",
    "* \"\".replace('',s,n) returns s instead of empty string for all non-zero n\n",
    "* Decorators can now be any valid expression\n",
    "* parallel running of aclose(), asend(), and athrow() is prohibited\n",
    "* ag_running reflects actual status of async generator"
   ],
   "metadata": {
    "collapsed": false
   }
  },
  {
   "cell_type": "markdown",
   "source": [
    "### new module: zoneinfo\n",
    "Support for the IANA timezone database\n",
    "* zoneinfo.ZoneInfo\n",
    "* zoneinfo.tzinfo"
   ],
   "metadata": {
    "collapsed": false,
    "pycharm": {
     "name": "#%% md\n"
    }
   }
  },
  {
   "cell_type": "code",
   "execution_count": 1,
   "outputs": [
    {
     "name": "stdout",
     "output_type": "stream",
     "text": [
      "2020-10-31 12:00:00-07:00\n"
     ]
    }
   ],
   "source": [
    "from zoneinfo import ZoneInfo\n",
    "from datetime import datetime, timedelta\n",
    "\n",
    "# daylight savings time\n",
    "dt = datetime(2020,10,31,12,tzinfo=ZoneInfo(\"America/Los_Angeles\"))\n",
    "print(dt)"
   ],
   "metadata": {
    "collapsed": false,
    "pycharm": {
     "name": "#%%\n"
    }
   }
  },
  {
   "cell_type": "code",
   "execution_count": 2,
   "outputs": [
    {
     "data": {
      "text/plain": "'PDT'"
     },
     "execution_count": 2,
     "metadata": {},
     "output_type": "execute_result"
    }
   ],
   "source": [
    "dt.tzname()"
   ],
   "metadata": {
    "collapsed": false,
    "pycharm": {
     "name": "#%%\n"
    }
   }
  },
  {
   "cell_type": "code",
   "execution_count": 3,
   "outputs": [
    {
     "name": "stdout",
     "output_type": "stream",
     "text": [
      "2020-11-07 12:00:00-08:00\n"
     ]
    }
   ],
   "source": [
    "# Standard time\n",
    "dt += timedelta(days=7)\n",
    "print(dt)"
   ],
   "metadata": {
    "collapsed": false,
    "pycharm": {
     "name": "#%%\n"
    }
   }
  },
  {
   "cell_type": "code",
   "execution_count": 4,
   "outputs": [
    {
     "name": "stdout",
     "output_type": "stream",
     "text": [
      "PST\n"
     ]
    }
   ],
   "source": [
    "print(dt.tzname())"
   ],
   "metadata": {
    "collapsed": false,
    "pycharm": {
     "name": "#%%\n"
    }
   }
  },
  {
   "cell_type": "markdown",
   "source": [
    "### new module: graphlib\n",
    "contains:\n",
    "    * graphlib.TopologicalSorter: perform topological sorting of graphs"
   ],
   "metadata": {
    "collapsed": false,
    "pycharm": {
     "name": "#%% md\n"
    }
   }
  },
  {
   "cell_type": "code",
   "execution_count": null,
   "outputs": [],
   "source": [
    "### improved module: ast\n"
   ],
   "metadata": {
    "collapsed": false,
    "pycharm": {
     "name": "#%%\n"
    }
   }
  }
 ],
 "metadata": {
  "kernelspec": {
   "display_name": "Python 3",
   "language": "python",
   "name": "python3"
  },
  "language_info": {
   "codemirror_mode": {
    "name": "ipython",
    "version": 3
   },
   "file_extension": ".py",
   "mimetype": "text/x-python",
   "name": "python",
   "nbconvert_exporter": "python",
   "pygments_lexer": "ipython3",
   "version": "3.9.0"
  }
 },
 "nbformat": 4,
 "nbformat_minor": 1
}