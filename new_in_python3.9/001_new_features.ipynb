{
 "cells": [
  {
   "cell_type": "markdown",
   "source": [
    "### Dictionary Merge & Update operators\n",
    "- Merge: (|) aka pipe\n",
    "- Update: (|=) aka pipe-equals"
   ],
   "metadata": {
    "collapsed": false
   }
  },
  {
   "cell_type": "code",
   "execution_count": null,
   "outputs": [],
   "source": [
    "x = {\"key1\": \"value1 from x\", \"key2\": \"value2 from x\"}\n",
    "y = {\"key2\": \"value2 from y\", \"key3\": \"value3 from y\"}\n",
    "x | y"
   ],
   "metadata": {
    "collapsed": false,
    "pycharm": {
     "name": "#%%\n"
    }
   }
  },
  {
   "cell_type": "code",
   "execution_count": null,
   "outputs": [],
   "source": [
    "y | x"
   ],
   "metadata": {
    "collapsed": false,
    "pycharm": {
     "name": "#%%\n"
    }
   }
  },
  {
   "cell_type": "markdown",
   "source": [
    "### New String methods for prefix/suffix removal\n",
    "- str.removeprefix(prefix)\n",
    "- str.removesuffix(suffix)\n",
    "\n",
    "* also corresponding methods for: bytes, bytearray, and collections.UserString"
   ],
   "metadata": {
    "collapsed": false
   }
  },
  {
   "cell_type": "code",
   "execution_count": null,
   "outputs": [],
   "source": [
    "string1 = \"PREFIXA_90043B\"\n",
    "string2 = string1.removeprefix('PREFIXA_')\n",
    "\n",
    "print(string1)\n",
    "print(string2)"
   ],
   "metadata": {
    "collapsed": false,
    "pycharm": {
     "name": "#%%\n"
    }
   }
  },
  {
   "cell_type": "markdown",
   "source": [
    "### Type Hinting Generics in Standard Collection\n",
    "- no more importing capitalized types: List, Dict, queue.Queue, and others as well.\n",
    "- just use 'list', 'dict', etc. for type hinting"
   ],
   "metadata": {
    "collapsed": false
   }
  },
  {
   "cell_type": "code",
   "execution_count": null,
   "outputs": [],
   "source": [
    "def greet_all(names: list[str]) -> None:\n",
    "    for name in names:\n",
    "        print(\"Hello \", name)\n",
    "\n",
    "names = [\"Jane\", \"Mark\", \"John\", \"Jensen\", \"Micky\"]\n",
    "greet_all(names)"
   ],
   "metadata": {
    "collapsed": false,
    "pycharm": {
     "name": "#%%\n"
    }
   }
  },
  {
   "cell_type": "markdown",
   "source": [
    "### New Parser\n",
    "- Python3.9's new parser is based on PEG instead of LL(1)\n",
    "- ast module uses new parser, produces same AST as old parser (whatever AST is...)\n",
    "- Python3.10 will remove old parser\n",
    "- can use old parser for now with CLI switch (-X oldparser)\n",
    "- ... or env var (PYTHONOLDPARSER=1)"
   ],
   "metadata": {
    "collapsed": false
   }
  },
  {
   "cell_type": "markdown",
   "source": [
    "### Other Changes\n",
    "* \\_\\_file__ attribute of \\_\\_main__ module is an absolute path.\n",
    "    * paths remain valid even after current directory is changed by os.chdir()\n",
    "* Dev Mode & Debug Mode: encoding & errors args checked for encoding/decoding operations. ie: open(), str.encode(), bytes.decode()\n",
    "* \"\".replace('',s,n) returns s instead of empty string for all non-zero n\n",
    "* Decorators can now be any valid expression\n",
    "* parallel running of aclose(), asend(), and athrow() is prohibited\n",
    "* ag_running reflects actual status of async generator"
   ],
   "metadata": {
    "collapsed": false
   }
  },
  {
   "cell_type": "markdown",
   "source": [
    "### new module: zoneinfo\n",
    "Support for the IANA timezone database\n",
    "* zoneinfo.ZoneInfo\n",
    "* zoneinfo.tzinfo"
   ],
   "metadata": {
    "collapsed": false
   }
  },
  {
   "cell_type": "code",
   "execution_count": null,
   "outputs": [],
   "source": [
    "from zoneinfo import ZoneInfo\n",
    "from datetime import datetime, timedelta\n",
    "\n",
    "# daylight savings time\n",
    "dt = datetime(2020,10,31,12,tzinfo=ZoneInfo(\"America/Los_Angeles\"))\n",
    "print(dt)"
   ],
   "metadata": {
    "collapsed": false,
    "pycharm": {
     "name": "#%%\n"
    }
   }
  },
  {
   "cell_type": "code",
   "execution_count": null,
   "outputs": [],
   "source": [
    "dt.tzname()"
   ],
   "metadata": {
    "collapsed": false,
    "pycharm": {
     "name": "#%%\n"
    }
   }
  },
  {
   "cell_type": "code",
   "execution_count": null,
   "outputs": [],
   "source": [
    "# Standard time\n",
    "dt += timedelta(days=7)\n",
    "print(dt)"
   ],
   "metadata": {
    "collapsed": false,
    "pycharm": {
     "name": "#%%\n"
    }
   }
  },
  {
   "cell_type": "code",
   "execution_count": null,
   "outputs": [],
   "source": [
    "print(dt.tzname())"
   ],
   "metadata": {
    "collapsed": false,
    "pycharm": {
     "name": "#%%\n"
    }
   }
  },
  {
   "cell_type": "markdown",
   "source": [
    "### new module: graphlib\n",
    "contains:\n",
    "    * graphlib.TopologicalSorter: perform topological sorting of graphs"
   ],
   "metadata": {
    "collapsed": false
   }
  },
  {
   "cell_type": "markdown",
   "source": [
    "### improved module: ast\n",
    "* added indent option to dump(): allows multiline, indented output\n",
    "* added ast.unparse() can unparse ast.AST, produce str w/ code that's equiv to ast.AST obj when parsed"
   ],
   "metadata": {
    "collapsed": false
   }
  },
  {
   "cell_type": "markdown",
   "source": [
    "### improved module: asyncio\n",
    "* added coroutine shutdown_default_executor() schedules shutdown for default executor & waits on ThreadPoolExecutor to finish. (also asyncio.run())\n",
    "* added asyncio.PidfdChildWatcher: linux specific. polls process file descriptors\n",
    "* added coroutine asyncio.to_thread(): runs io-bound functions in separate thread / avoid blocking event loop\n",
    "* asyncio.wait_for(): waits til cancellation complete for cancelling tasks due to timeout\n"
   ],
   "metadata": {
    "collapsed": false
   }
  },
  {
   "cell_type": "markdown",
   "source": [
    "### improved module: compileall\n",
    "* new hardlink possibilities for .pyc files\n",
    "* new path manip options in .pyc files"
   ],
   "metadata": {
    "collapsed": false
   }
  },
  {
   "cell_type": "markdown",
   "source": [
    "### improved module: concurrent.futures"
   ],
   "metadata": {
    "collapsed": false
   }
  },
  {
   "cell_type": "markdown",
   "source": [
    "### improved module: curses\n",
    "* added curses.get_escdelay(), curses.set_escdelay(), curses.get_tabsize(), curses.set_tabsize()"
   ],
   "metadata": {
    "collapsed": false
   }
  },
  {
   "cell_type": "markdown",
   "source": [
    "### improved module: gc\n",
    "* gc.is_finalized(): check if obj has been finalized by gc"
   ],
   "metadata": {
    "collapsed": false
   }
  },
  {
   "cell_type": "markdown",
   "source": [
    "### improved module: importlib\n",
    "* importlib.resources.files(): supports subdirectories in package data"
   ],
   "metadata": {
    "collapsed": false
   }
  },
  {
   "cell_type": "markdown",
   "source": [
    "### improved module: math\n",
    "* added math.lcm(): least common multiple\n",
    "* added math.nextafter(): next floating-point val after x toward y\n",
    "* added math.ulp(): least significant bit of a float"
   ],
   "metadata": {
    "collapsed": false
   }
  },
  {
   "cell_type": "markdown",
   "source": [
    "### improved module: pathlib\n",
    "* added pathlib.Path.readlink(): acts like os.readlink()"
   ],
   "metadata": {
    "collapsed": false
   }
  },
  {
   "cell_type": "markdown",
   "source": [
    "### improved module: pprint\n",
    "* can pretty-print types.SimpleNameSpace"
   ],
   "metadata": {
    "collapsed": false
   }
  },
  {
   "cell_type": "markdown",
   "source": [
    "### improved module: pydoc\n",
    "* \\_\\_doc__ shows for ANY obj with it"
   ],
   "metadata": {
    "collapsed": false
   }
  },
  {
   "cell_type": "markdown",
   "source": [
    "### improved module: random\n",
    "* added random.Random.randbytes: generates random bytes"
   ],
   "metadata": {
    "collapsed": false
   }
  },
  {
   "cell_type": "markdown",
   "source": [
    "### improved module: signal\n",
    "* added signal.pidfd_send_signal(): linux specific send signal to process"
   ],
   "metadata": {
    "collapsed": false
   }
  },
  {
   "cell_type": "markdown",
   "source": [
    "### improved module: sys\n",
    "* added sys.platlibdir: platform specific lib directory"
   ],
   "metadata": {
    "collapsed": false
   }
  },
  {
   "cell_type": "markdown",
   "source": [
    "### improved module: tracemalloc\n",
    "* added tracemalloc.reset_peak(): set peak-size of traced mem blocks to current size"
   ],
   "metadata": {
    "collapsed": false
   }
  },
  {
   "cell_type": "markdown",
   "source": [
    "### OPTIMIZATIONS\n",
    "* optimized idiom for assignment of a temp var in comprehensions\n",
    "\n",
    "var = [s for s in [0] for x in data for x in [s+x]]\n",
    "does not leak var to outer scope like := (walrus) does\n",
    "\n",
    "* optimized signal handling in multithreaded apps\n",
    "* range, tuple, set, frozenset, list, dict are sped up via vectorcall protocol (PEP590).\n",
    "* optimized difference_update() when one set in way larger\n",
    "* floor division on float operations is much faster\n",
    "* decoding short asii strings with utf-8 now 15% faster\n",
    "\n"
   ],
   "metadata": {
    "collapsed": false,
    "pycharm": {
     "name": "#%% md\n"
    }
   }
  }
 ],
 "metadata": {
  "kernelspec": {
   "display_name": "Python 3",
   "language": "python",
   "name": "python3"
  },
  "language_info": {
   "codemirror_mode": {
    "name": "ipython",
    "version": 3
   },
   "file_extension": ".py",
   "mimetype": "text/x-python",
   "name": "python",
   "nbconvert_exporter": "python",
   "pygments_lexer": "ipython3",
   "version": "3.9.0"
  }
 },
 "nbformat": 4,
 "nbformat_minor": 1
}