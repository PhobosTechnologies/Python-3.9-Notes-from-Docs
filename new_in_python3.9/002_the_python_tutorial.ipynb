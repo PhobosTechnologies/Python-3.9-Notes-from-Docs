{
 "cells": [
  {
   "cell_type": "markdown",
   "metadata": {
    "collapsed": true,
    "pycharm": {
     "name": "#%% md\n"
    }
   },
   "source": [
    "# Python Interpreter\n",
    "\n",
    "IPython is another interactive interpreter (I think we used that in college)\n",
    "\n",
    "the file, '.python_history' is in user's directory.\n",
    "\n",
    "the underscore is used as a variable to store the last printed expression\n",
    "\n",
    "### python -c command [arg] ...\n",
    "\n",
    "$ python -c 'print(\"Hey big boy!\")'\n",
    "\n",
    "sys.argv[0] will be '-c' (likewise, '-m' when running a module cli)\n",
    "\n",
    "current directory is added to sys.path for easy import\n",
    "\n",
    "### python -m module [arg] ...\n",
    "search sys.path and execute contents as \\_\\_main__\n",
    "\n",
    "### python -i script\n",
    "Enters interactive mode after script is executed\n",
    "\n",
    "sys.argv[0] will be full name of module\n",
    "\n",
    "NOTE: any option after -c or -m are ignored by python interpreter to be stored in sys.argv for the command/module to handle"
   ]
  },
  {
   "cell_type": "code",
   "execution_count": 2,
   "outputs": [
    {
     "name": "stdout",
     "output_type": "stream",
     "text": [
      "5.4\n",
      "5\n"
     ]
    }
   ],
   "source": [
    "print(27 / 5)\n",
    "print(27 // 5) # discards the decimal\n",
    "print(27 % 5) # calculates remainder"
   ],
   "metadata": {
    "collapsed": false,
    "pycharm": {
     "name": "#%%\n"
    }
   }
  },
  {
   "cell_type": "code",
   "execution_count": 4,
   "outputs": [
    {
     "name": "stdout",
     "output_type": "stream",
     "text": [
      "5 / 5 = 1.0\n",
      "5 // 5 = 1\n",
      "5 % 5 = 0\n",
      "5 / 4 = 1.25\n",
      "5 // 4 = 1\n",
      "5 % 4 = 1\n",
      "5 / 3 = 1.6666666666666667\n",
      "5 // 3 = 1\n",
      "5 % 3 = 2\n",
      "5 / 2 = 2.5\n",
      "5 // 2 = 2\n",
      "5 % 2 = 1\n",
      "5 / 1 = 5.0\n",
      "5 // 1 = 5\n",
      "5 % 1 = 0\n"
     ]
    }
   ],
   "source": [
    "print(f'5 / 5 = {5 / 5}')\n",
    "print(f'5 // 5 = {5 // 5}')\n",
    "print(f'5 % 5 = {5 % 5}')\n",
    "\n",
    "print(f'5 / 4 = {5 / 4}')\n",
    "print(f'5 // 4 = {5 // 4}')\n",
    "print(f'5 % 4 = {5 % 4}')\n",
    "\n",
    "print(f'5 / 3 = {5 / 3}')\n",
    "print(f'5 // 3 = {5 // 3}')\n",
    "print(f'5 % 3 = {5 % 3}')\n",
    "\n",
    "print(f'5 / 2 = {5 / 2}')\n",
    "print(f'5 // 2 = {5 // 2}')\n",
    "print(f'5 % 2 = {5 % 2}')\n",
    "\n",
    "print(f'5 / 1 = {5 / 1}')\n",
    "print(f'5 // 1 = {5 // 1}')\n",
    "print(f'5 % 1 = {5 % 1}')"
   ],
   "metadata": {
    "collapsed": false,
    "pycharm": {
     "name": "#%%\n"
    }
   }
  },
  {
   "cell_type": "code",
   "execution_count": 6,
   "outputs": [
    {
     "name": "stdout",
     "output_type": "stream",
     "text": [
      "C:\\some\\silly\\n\\s\\window-ish\\thingy\n"
     ]
    }
   ],
   "source": [
    "print(r'C:\\some\\silly\\n\\s\\window-ish\\thingy') # r'': raw strings - be glad we is *nix"
   ],
   "metadata": {
    "collapsed": false,
    "pycharm": {
     "name": "#%%\n"
    }
   }
  },
  {
   "cell_type": "code",
   "execution_count": 9,
   "outputs": [
    {
     "name": "stdout",
     "output_type": "stream",
     "text": [
      "this is great because,\n",
      "when you don't want an EOL\n",
      "... just drop your slash-bunz\n",
      "after the third opening quote\n"
     ]
    }
   ],
   "source": [
    "# opening third quote (cuz literal) includes EOL character - unless ...\n",
    "print(\"\"\"\\\n",
    "this is great because,\n",
    "when you don't want an EOL\n",
    "... just drop your slash-bunz\n",
    "after the third opening quote\"\"\")"
   ],
   "metadata": {
    "collapsed": false,
    "pycharm": {
     "name": "#%%\n"
    }
   }
  },
  {
   "cell_type": "code",
   "execution_count": 13,
   "outputs": [
    {
     "name": "stdout",
     "output_type": "stream",
     "text": [
      "we are automatically concatinated\n"
     ]
    }
   ],
   "source": [
    "print('we are ' 'automatically concatinated') # only works with literals without variables"
   ],
   "metadata": {
    "collapsed": false,
    "pycharm": {
     "name": "#%%\n"
    }
   }
  },
  {
   "cell_type": "code",
   "execution_count": 14,
   "outputs": [
    {
     "name": "stdout",
     "output_type": "stream",
     "text": [
      "why do I always forget about this?why do I always forget about this?why do I always forget about this?\n"
     ]
    }
   ],
   "source": [
    "print('why do I always forget about this?'*3)"
   ],
   "metadata": {
    "collapsed": false,
    "pycharm": {
     "name": "#%%\n"
    }
   }
  },
  {
   "cell_type": "code",
   "source": [
    "# Hey, this is pretty nifty :D\n",
    "'''\n",
    " +---+---+---+---+---+---+\n",
    " | P | y | t | h | o | n |\n",
    " +---+---+---+---+---+---+\n",
    " 0   1   2   3   4   5   6\n",
    "-6  -5  -4  -3  -2  -1\n",
    "'''"
   ],
   "metadata": {
    "collapsed": false,
    "pycharm": {
     "name": "#%%\n"
    }
   },
   "execution_count": 15,
   "outputs": [
    {
     "data": {
      "text/plain": "'\\n +---+---+---+---+---+---+\\n | P | y | t | h | o | n |\\n +---+---+---+---+---+---+\\n 0   1   2   3   4   5   6\\n-6  -5  -4  -3  -2  -1\\n'"
     },
     "execution_count": 15,
     "metadata": {},
     "output_type": "execute_result"
    }
   ]
  },
  {
   "cell_type": "code",
   "execution_count": 17,
   "outputs": [
    {
     "name": "stdout",
     "output_type": "stream",
     "text": [
      "[100, 101, 111, 222, 333, 105]\n"
     ]
    }
   ],
   "source": [
    "# strings are immutable ... didn't I know that? I'm pretty sure I knew that; I just don't work with strings like that anyway.\n",
    "\n",
    "# assigment to slices?!?! WHAT?! So glad I decided to go through the entirety of the python docs\n",
    "mylist =  [100,101,102,103,104,105]\n",
    "mylist[2:5] = [111,222,333] # adding three in there since 5-2=3 (5 & 2 are from the slice [2:5])\n",
    "print(mylist)"
   ],
   "metadata": {
    "collapsed": false,
    "pycharm": {
     "name": "#%%\n"
    }
   }
  },
  {
   "cell_type": "code",
   "execution_count": 18,
   "outputs": [
    {
     "name": "stdout",
     "output_type": "stream",
     "text": [
      "[]\n"
     ]
    }
   ],
   "source": [
    "mylist[:] = [] # clears it\n",
    "print(mylist)"
   ],
   "metadata": {
    "collapsed": false,
    "pycharm": {
     "name": "#%%\n"
    }
   }
  },
  {
   "cell_type": "code",
   "execution_count": 19,
   "outputs": [
    {
     "name": "stdout",
     "output_type": "stream",
     "text": [
      "0\n",
      "1\n",
      "1\n",
      "2\n",
      "3\n",
      "5\n",
      "8\n"
     ]
    }
   ],
   "source": [
    "# Fibonacci series:\n",
    "a,b = 0,1\n",
    "while a < 10:\n",
    "    print(a)\n",
    "    a,b = b, a+b"
   ],
   "metadata": {
    "collapsed": false,
    "pycharm": {
     "name": "#%%\n"
    }
   }
  },
  {
   "cell_type": "code",
   "execution_count": 20,
   "outputs": [
    {
     "name": "stdout",
     "output_type": "stream",
     "text": [
      "blahblahblah_replace EOL with me :)"
     ]
    }
   ],
   "source": [
    "print('blahblahblah', end='_replace EOL with me :)')"
   ],
   "metadata": {
    "collapsed": false,
    "pycharm": {
     "name": "#%%\n"
    }
   }
  },
  {
   "cell_type": "code",
   "execution_count": 22,
   "outputs": [
    {
     "name": "stdout",
     "output_type": "stream",
     "text": [
      "-9\n",
      "9\n"
     ]
    }
   ],
   "source": [
    "print(-3**2) # ** has higher precedence. interpreted as -(3**2)\n",
    "print((-3)**2) # fixes it. Like I always say: if there's more than one op, just use parentheses even if you don't think you need them"
   ],
   "metadata": {
    "collapsed": false,
    "pycharm": {
     "name": "#%%\n"
    }
   }
  },
  {
   "cell_type": "code",
   "execution_count": null,
   "outputs": [],
   "source": [],
   "metadata": {
    "collapsed": false,
    "pycharm": {
     "name": "#%%\n"
    }
   }
  }
 ],
 "metadata": {
  "kernelspec": {
   "display_name": "Python 3",
   "language": "python",
   "name": "python3"
  },
  "language_info": {
   "codemirror_mode": {
    "name": "ipython",
    "version": 2
   },
   "file_extension": ".py",
   "mimetype": "text/x-python",
   "name": "python",
   "nbconvert_exporter": "python",
   "pygments_lexer": "ipython2",
   "version": "2.7.6"
  }
 },
 "nbformat": 4,
 "nbformat_minor": 0
}