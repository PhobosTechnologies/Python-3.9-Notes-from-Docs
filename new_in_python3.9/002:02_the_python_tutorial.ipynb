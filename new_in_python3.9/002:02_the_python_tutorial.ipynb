{
 "cells": [
  {
   "cell_type": "markdown",
   "metadata": {
    "collapsed": true,
    "pycharm": {
     "name": "#%% md\n"
    }
   },
   "source": [
    "# Data Structures\n",
    "### Lists"
   ]
  },
  {
   "cell_type": "code",
   "execution_count": 6,
   "outputs": [
    {
     "data": {
      "text/plain": "0"
     },
     "execution_count": 6,
     "metadata": {},
     "output_type": "execute_result"
    }
   ],
   "source": [
    "mylist = []\n",
    "mylist.clear() # same as: del mylist[:]\n",
    "mylist.extend(['anything','that is','iterable'])\n",
    "mylist.insert(2,'new thing to stick on in thar')\n",
    "mylist.remove('iterable')\n",
    "mylist.index('anything',4,9)\n",
    "mylist.count('whatever') # how many times it's in the list\n",
    "mylist.sort()\n",
    "mylist.reverse()\n",
    "mylist.copy() # same as mylist[:]"
   ],
   "metadata": {
    "collapsed": false,
    "pycharm": {
     "name": "#%%\n"
    }
   }
  },
  {
   "cell_type": "code",
   "execution_count": 7,
   "outputs": [
    {
     "data": {
      "text/plain": "'eric'"
     },
     "execution_count": 7,
     "metadata": {},
     "output_type": "execute_result"
    }
   ],
   "source": [
    "# lists as queues\n",
    "from collections import deque\n",
    "queue = deque([\"eric\",\"joe\",\"john\"])\n",
    "queue.append(\"jake\")\n",
    "queue.popleft()"
   ],
   "metadata": {
    "collapsed": false,
    "pycharm": {
     "name": "#%%\n"
    }
   }
  },
  {
   "cell_type": "code",
   "execution_count": 1,
   "outputs": [],
   "source": [
    "# list comprehensions\n",
    "# I always forget that that's what these are called:\n",
    "mylist = []\n",
    "# stick something iterable in thar\n",
    "mylist = [range(55,5555)]\n",
    "\n",
    "# making squares with comprehension aid\n",
    "squares = [x**2 for x in range(10)]\n",
    "# or normally:\n",
    "squares = list(map(lambda x: x**2, range(10)))"
   ],
   "metadata": {
    "collapsed": false,
    "pycharm": {
     "name": "#%%\n"
    }
   }
  },
  {
   "cell_type": "code",
   "execution_count": null,
   "outputs": [],
   "source": [
    "# that's it for now - not a lot of time today :(\n",
    "\n"
   ],
   "metadata": {
    "collapsed": false,
    "pycharm": {
     "name": "#%%\n"
    }
   }
  }
 ],
 "metadata": {
  "kernelspec": {
   "name": "pycharm-8de6dcc2",
   "language": "python",
   "display_name": "PyCharm (terrastem)"
  },
  "language_info": {
   "codemirror_mode": {
    "name": "ipython",
    "version": 2
   },
   "file_extension": ".py",
   "mimetype": "text/x-python",
   "name": "python",
   "nbconvert_exporter": "python",
   "pygments_lexer": "ipython2",
   "version": "2.7.6"
  }
 },
 "nbformat": 4,
 "nbformat_minor": 0
}