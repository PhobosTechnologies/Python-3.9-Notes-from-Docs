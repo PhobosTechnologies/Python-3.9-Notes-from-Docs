{
 "cells": [
  {
   "cell_type": "markdown",
   "metadata": {
    "collapsed": true,
    "pycharm": {
     "name": "#%% md\n"
    }
   },
   "source": [
    "# Python Interpreter\n",
    "\n",
    "IPython is another interactive interpreter (I think we used that in college)\n",
    "\n",
    "the file, '.python_history' is in user's directory.\n",
    "\n",
    "the underscore is used as a variable to store the last printed expression\n",
    "\n",
    "### python -c command [arg] ...\n",
    "\n",
    "$ python -c 'print(\"Hey big boy!\")'\n",
    "\n",
    "sys.argv[0] will be '-c' (likewise, '-m' when running a module cli)\n",
    "\n",
    "current directory is added to sys.path for easy import\n",
    "\n",
    "### python -m module [arg] ...\n",
    "search sys.path and execute contents as \\_\\_main__\n",
    "\n",
    "### python -i script\n",
    "Enters interactive mode after script is executed\n",
    "\n",
    "sys.argv[0] will be full name of module\n",
    "\n",
    "NOTE: any option after -c or -m are ignored by python interpreter to be stored in sys.argv for the command/module to handle"
   ]
  },
  {
   "cell_type": "code",
   "execution_count": 2,
   "outputs": [
    {
     "name": "stdout",
     "output_type": "stream",
     "text": [
      "5.4\n",
      "5\n"
     ]
    }
   ],
   "source": [
    "print(27 / 5)\n",
    "print(27 // 5) # discards the decimal\n",
    "print(27 % 5) # calculates remainder"
   ],
   "metadata": {
    "collapsed": false,
    "pycharm": {
     "name": "#%%\n"
    }
   }
  },
  {
   "cell_type": "code",
   "execution_count": 4,
   "outputs": [
    {
     "name": "stdout",
     "output_type": "stream",
     "text": [
      "5 / 5 = 1.0\n",
      "5 // 5 = 1\n",
      "5 % 5 = 0\n",
      "5 / 4 = 1.25\n",
      "5 // 4 = 1\n",
      "5 % 4 = 1\n",
      "5 / 3 = 1.6666666666666667\n",
      "5 // 3 = 1\n",
      "5 % 3 = 2\n",
      "5 / 2 = 2.5\n",
      "5 // 2 = 2\n",
      "5 % 2 = 1\n",
      "5 / 1 = 5.0\n",
      "5 // 1 = 5\n",
      "5 % 1 = 0\n"
     ]
    }
   ],
   "source": [
    "print(f'5 / 5 = {5 / 5}')\n",
    "print(f'5 // 5 = {5 // 5}')\n",
    "print(f'5 % 5 = {5 % 5}')\n",
    "\n",
    "print(f'5 / 4 = {5 / 4}')\n",
    "print(f'5 // 4 = {5 // 4}')\n",
    "print(f'5 % 4 = {5 % 4}')\n",
    "\n",
    "print(f'5 / 3 = {5 / 3}')\n",
    "print(f'5 // 3 = {5 // 3}')\n",
    "print(f'5 % 3 = {5 % 3}')\n",
    "\n",
    "print(f'5 / 2 = {5 / 2}')\n",
    "print(f'5 // 2 = {5 // 2}')\n",
    "print(f'5 % 2 = {5 % 2}')\n",
    "\n",
    "print(f'5 / 1 = {5 / 1}')\n",
    "print(f'5 // 1 = {5 // 1}')\n",
    "print(f'5 % 1 = {5 % 1}')"
   ],
   "metadata": {
    "collapsed": false,
    "pycharm": {
     "name": "#%%\n"
    }
   }
  },
  {
   "cell_type": "code",
   "execution_count": 6,
   "outputs": [
    {
     "name": "stdout",
     "output_type": "stream",
     "text": [
      "C:\\some\\silly\\n\\s\\window-ish\\thingy\n"
     ]
    }
   ],
   "source": [
    "print(r'C:\\some\\silly\\n\\s\\window-ish\\thingy') # r'': raw strings - be glad we is *nix"
   ],
   "metadata": {
    "collapsed": false,
    "pycharm": {
     "name": "#%%\n"
    }
   }
  },
  {
   "cell_type": "code",
   "execution_count": 9,
   "outputs": [
    {
     "name": "stdout",
     "output_type": "stream",
     "text": [
      "this is great because,\n",
      "when you don't want an EOL\n",
      "... just drop your slash-bunz\n",
      "after the third opening quote\n"
     ]
    }
   ],
   "source": [
    "# opening third quote (cuz literal) includes EOL character - unless ...\n",
    "print(\"\"\"\\\n",
    "this is great because,\n",
    "when you don't want an EOL\n",
    "... just drop your slash-bunz\n",
    "after the third opening quote\"\"\")"
   ],
   "metadata": {
    "collapsed": false,
    "pycharm": {
     "name": "#%%\n"
    }
   }
  },
  {
   "cell_type": "code",
   "execution_count": 13,
   "outputs": [
    {
     "name": "stdout",
     "output_type": "stream",
     "text": [
      "we are automatically concatinated\n"
     ]
    }
   ],
   "source": [
    "print('we are ' 'automatically concatinated') # only works with literals without variables"
   ],
   "metadata": {
    "collapsed": false,
    "pycharm": {
     "name": "#%%\n"
    }
   }
  },
  {
   "cell_type": "code",
   "execution_count": 14,
   "outputs": [
    {
     "name": "stdout",
     "output_type": "stream",
     "text": [
      "why do I always forget about this?why do I always forget about this?why do I always forget about this?\n"
     ]
    }
   ],
   "source": [
    "print('why do I always forget about this?'*3)"
   ],
   "metadata": {
    "collapsed": false,
    "pycharm": {
     "name": "#%%\n"
    }
   }
  },
  {
   "cell_type": "code",
   "source": [
    "# Hey, this is pretty nifty :D\n",
    "'''\n",
    " +---+---+---+---+---+---+\n",
    " | P | y | t | h | o | n |\n",
    " +---+---+---+---+---+---+\n",
    " 0   1   2   3   4   5   6\n",
    "-6  -5  -4  -3  -2  -1\n",
    "'''"
   ],
   "metadata": {
    "collapsed": false,
    "pycharm": {
     "name": "#%%\n"
    }
   },
   "execution_count": 15,
   "outputs": [
    {
     "data": {
      "text/plain": "'\\n +---+---+---+---+---+---+\\n | P | y | t | h | o | n |\\n +---+---+---+---+---+---+\\n 0   1   2   3   4   5   6\\n-6  -5  -4  -3  -2  -1\\n'"
     },
     "execution_count": 15,
     "metadata": {},
     "output_type": "execute_result"
    }
   ]
  },
  {
   "cell_type": "code",
   "execution_count": 17,
   "outputs": [
    {
     "name": "stdout",
     "output_type": "stream",
     "text": [
      "[100, 101, 111, 222, 333, 105]\n"
     ]
    }
   ],
   "source": [
    "# strings are immutable ... didn't I know that? I'm pretty sure I knew that; I just don't work with strings like that anyway.\n",
    "\n",
    "# assigment to slices?!?! WHAT?! So glad I decided to go through the entirety of the python docs\n",
    "mylist =  [100,101,102,103,104,105]\n",
    "mylist[2:5] = [111,222,333] # adding three in there since 5-2=3 (5 & 2 are from the slice [2:5])\n",
    "print(mylist)"
   ],
   "metadata": {
    "collapsed": false,
    "pycharm": {
     "name": "#%%\n"
    }
   }
  },
  {
   "cell_type": "code",
   "execution_count": 18,
   "outputs": [
    {
     "name": "stdout",
     "output_type": "stream",
     "text": [
      "[]\n"
     ]
    }
   ],
   "source": [
    "mylist[:] = [] # clears it\n",
    "print(mylist)"
   ],
   "metadata": {
    "collapsed": false,
    "pycharm": {
     "name": "#%%\n"
    }
   }
  },
  {
   "cell_type": "code",
   "execution_count": 19,
   "outputs": [
    {
     "name": "stdout",
     "output_type": "stream",
     "text": [
      "0\n",
      "1\n",
      "1\n",
      "2\n",
      "3\n",
      "5\n",
      "8\n"
     ]
    }
   ],
   "source": [
    "# Fibonacci series:\n",
    "a,b = 0,1\n",
    "while a < 10:\n",
    "    print(a)\n",
    "    a,b = b, a+b"
   ],
   "metadata": {
    "collapsed": false,
    "pycharm": {
     "name": "#%%\n"
    }
   }
  },
  {
   "cell_type": "code",
   "execution_count": 20,
   "outputs": [
    {
     "name": "stdout",
     "output_type": "stream",
     "text": [
      "blahblahblah_replace EOL with me :)"
     ]
    }
   ],
   "source": [
    "print('blahblahblah', end='_replace EOL with me :)')"
   ],
   "metadata": {
    "collapsed": false,
    "pycharm": {
     "name": "#%%\n"
    }
   }
  },
  {
   "cell_type": "code",
   "execution_count": 22,
   "outputs": [
    {
     "name": "stdout",
     "output_type": "stream",
     "text": [
      "-9\n",
      "9\n"
     ]
    }
   ],
   "source": [
    "print(-3**2) # ** has higher precedence. interpreted as -(3**2)\n",
    "print((-3)**2) # fixes it. Like I always say: if there's more than one op, just use parentheses even if you don't think you need them"
   ],
   "metadata": {
    "collapsed": false,
    "pycharm": {
     "name": "#%%\n"
    }
   }
  },
  {
   "cell_type": "markdown",
   "source": [
    "### Control Flow"
   ],
   "metadata": {
    "collapsed": false,
    "pycharm": {
     "name": "#%% md\n"
    }
   }
  },
  {
   "cell_type": "code",
   "execution_count": null,
   "outputs": [],
   "source": [
    "# iterate over copy:\n",
    "for user,status in users.copy().items():\n",
    "    if status == 'inactive':\n",
    "        del users[user]\n",
    "\n",
    "# iterate, alter data, and copy\n",
    "active_users = {}\n",
    "for user,status in users.items():\n",
    "    if status == 'active':\n",
    "        active_users[user] = status"
   ],
   "metadata": {
    "collapsed": false,
    "pycharm": {
     "name": "#%%\n"
    }
   }
  },
  {
   "cell_type": "code",
   "execution_count": 2,
   "outputs": [
    {
     "name": "stdout",
     "output_type": "stream",
     "text": [
      "0\n",
      "5\n",
      "10\n",
      "15\n",
      "20\n",
      "25\n",
      "30\n",
      "35\n",
      "40\n",
      "45\n"
     ]
    }
   ],
   "source": [
    "# another often forgotten tidbit\n",
    "for _ in range(0, 50, 5):\n",
    "    print(_)"
   ],
   "metadata": {
    "collapsed": false,
    "pycharm": {
     "name": "#%%\n"
    }
   }
  },
  {
   "cell_type": "code",
   "execution_count": 3,
   "outputs": [
    {
     "name": "stdout",
     "output_type": "stream",
     "text": [
      "guy number 0: Dan\n",
      "guy number 1: Mark\n",
      "guy number 2: Gordon\n",
      "guy number 3: Jake\n",
      "guy number 4: Porter\n"
     ]
    }
   ],
   "source": [
    "# combining range & len\n",
    "the_guys = ['Dan','Mark','Gordon','Jake','Porter']\n",
    "for _ in range(len(the_guys)):\n",
    "    print(f'guy number {_}: {the_guys[_]}')\n"
   ],
   "metadata": {
    "collapsed": false,
    "pycharm": {
     "name": "#%%\n"
    }
   }
  },
  {
   "cell_type": "markdown",
   "source": [
    "### Functions"
   ],
   "metadata": {
    "collapsed": false
   }
  },
  {
   "cell_type": "code",
   "execution_count": 7,
   "outputs": [
    {
     "name": "stdout",
     "output_type": "stream",
     "text": [
      "0 1 1 2 3 5 8 13 21 34 55 89 144 233 377 610 987 1597 \n"
     ]
    }
   ],
   "source": [
    "def fib(n, nonsense=\"don't treat on me\", more_nonsense='We are not a bank'): # write fibonacci series up to n\n",
    "    \"\"\"This is the part we always forget - so, do this!\"\"\"\n",
    "    a,b = 0,1\n",
    "    while a < n:\n",
    "        print(a, end=' ')\n",
    "        a,b = b, a+b\n",
    "    print()\n",
    "\n",
    "fib(2000)"
   ],
   "metadata": {
    "collapsed": false,
    "pycharm": {
     "name": "#%%\n"
    }
   }
  },
  {
   "cell_type": "code",
   "execution_count": 6,
   "outputs": [],
   "source": [
    "result = []\n",
    "\n",
    "result = result + ['new entry']\n",
    "result.append('newer entry') # more efficient than the other one"
   ],
   "metadata": {
    "collapsed": false,
    "pycharm": {
     "name": "#%%\n"
    }
   }
  },
  {
   "cell_type": "code",
   "execution_count": 27,
   "outputs": [
    {
     "name": "stdout",
     "output_type": "stream",
     "text": [
      "5000\n"
     ]
    }
   ],
   "source": [
    "# interesting tid-bit to be more aware of:\n",
    "i = 5000\n",
    "\n",
    "def f(arg=i):\n",
    "    \"\"\"My default values are evaluated at the definition, not execution\"\"\"\n",
    "    print(arg)\n",
    "\n",
    "i = 55\n",
    "\n",
    "f()"
   ],
   "metadata": {
    "collapsed": false,
    "pycharm": {
     "name": "#%%\n"
    }
   }
  },
  {
   "cell_type": "code",
   "execution_count": 29,
   "outputs": [
    {
     "name": "stdout",
     "output_type": "stream",
     "text": [
      "[1]\n",
      "[1, 2]\n",
      "[1, 2, 3]\n"
     ]
    }
   ],
   "source": [
    "# also, default values are defined only once (should go without saying)\n",
    "# BUT, this gets wonky when using mutable objects:\n",
    "def f(a, L=[]):\n",
    "    L.append(a)\n",
    "    return L\n",
    "\n",
    "print(f(1))\n",
    "print(f(2))\n",
    "print(f(3))"
   ],
   "metadata": {
    "collapsed": false,
    "pycharm": {
     "name": "#%%\n"
    }
   }
  },
  {
   "cell_type": "markdown",
   "source": [
    "### Keyword Arguments & Special Parameters"
   ],
   "metadata": {
    "collapsed": false,
    "pycharm": {
     "name": "#%% md\n"
    }
   }
  },
  {
   "cell_type": "code",
   "execution_count": 32,
   "outputs": [
    {
     "data": {
      "text/plain": "'earth/venus/panetx/sun/jupiter/your ... anus'"
     },
     "execution_count": 32,
     "metadata": {},
     "output_type": "execute_result"
    }
   ],
   "source": [
    "# *args and **kwargs\n",
    "# **variable is received as a dict\n",
    "# **kwargs always comes after *args\n",
    "# *args are wrapped in a tuple (variatic arguments)\n",
    "# *args must always be after positionals since they scoop everything else up - except for the **kwargs\n",
    "def func(a, b, c, *args, **kwargs):\n",
    "    for arg in args:\n",
    "        print(arg)\n",
    "    for kwarg in kwargs:\n",
    "        print(kwarg, \":\", kwargs[kwarg])\n",
    "\n",
    "def concat(*args,sep='/'):\n",
    "    return sep.join(args)\n",
    "\n",
    "concat('earth','venus','panetx','sun','jupiter','your ... anus')"
   ],
   "metadata": {
    "collapsed": false,
    "pycharm": {
     "name": "#%%\n"
    }
   }
  },
  {
   "cell_type": "code",
   "execution_count": 31,
   "outputs": [
    {
     "data": {
      "text/plain": "'\\ndef f(pos1, pos2, /, pos_or_kwd, *, kwd1, kwd2):\\n      -----------    ----------     ----------\\n        |             |                  |\\n        |        Positional or keyword   |\\n        |                                - Keyword only\\n         -- Positional only\\n'"
     },
     "execution_count": 31,
     "metadata": {},
     "output_type": "execute_result"
    }
   ],
   "source": [
    "# NOTE: on / and *\n",
    "# / signifies positional only (pos-only go before /)\n",
    "# * indicates keyword only (kwd-only go after *)\n",
    "# without / or *, arguments are position-or-keyword\n",
    "# / and * are optional! BUT, if used, they indicate the types of parameters allowed\n",
    "# / and * can be used separately\n",
    "# if no / - there are no positional only params\n",
    "'''\n",
    "def f(pos1, pos2, /, pos_or_kwd, *, kwd1, kwd2):\n",
    "      -----------    ----------     ----------\n",
    "        |             |                  |\n",
    "        |        Positional or keyword   |\n",
    "        |                                - Keyword only\n",
    "         -- Positional only\n",
    "'''\n",
    "# WARNING: Collision possibility:\n",
    "# if a keyword in kwds is name, the first argument, 'name', will\n",
    "# be bound instead of the kwds keyword, 'name'.\n",
    "# this func will never return True\n",
    "def foo(name, **kwds):\n",
    "    return 'name' in kwds\n",
    "# however, if you did this:\n",
    "def foo(name,/, **kwds):\n",
    "    return 'name' in kwds\n",
    "# then it will return true :)\n",
    "# ie: positional only var names (goes before /) can be used in **kwargs"
   ],
   "metadata": {
    "collapsed": false,
    "pycharm": {
     "name": "#%%\n"
    }
   }
  },
  {
   "cell_type": "code",
   "execution_count": 35,
   "outputs": [
    {
     "name": "stdout",
     "output_type": "stream",
     "text": [
      "1 2 3 4 5\n",
      "[1, 2, 3, 4, 5]\n",
      "[2, 4, 6, 8]\n"
     ]
    }
   ],
   "source": [
    "# SIDENOTE on *args ... watch ...\n",
    "\n",
    "args = list(range(1,6))\n",
    "print(*args)\n",
    "print(args)\n",
    "\n",
    "# and ...\n",
    "arg210 = [2,10,2]\n",
    "mylist = list(range(*arg210))\n",
    "print(mylist)"
   ],
   "metadata": {
    "collapsed": false,
    "pycharm": {
     "name": "#%%\n"
    }
   }
  },
  {
   "cell_type": "code",
   "execution_count": 36,
   "outputs": [
    {
     "name": "stdout",
     "output_type": "stream",
     "text": [
      "5 200 1000000\n"
     ]
    }
   ],
   "source": [
    "# **kwargs can do the same thing ... kinda ...\n",
    "mydict = {\"a\":5,\"b\":200,\"c\":1000000}\n",
    "\n",
    "def fff(a, b, c):\n",
    "    print(a, b, c)\n",
    "\n",
    "fff(**mydict)"
   ],
   "metadata": {
    "collapsed": false,
    "pycharm": {
     "name": "#%%\n"
    }
   }
  },
  {
   "cell_type": "markdown",
   "source": [
    "### LAMBDAs!!!!\n",
    "#### them crazy lambdas\n",
    "From the docs themselves: \"... they are just syntactic sugar for a normal function definition.\"\n",
    "... so there, butts!"
   ],
   "metadata": {
    "collapsed": false,
    "pycharm": {
     "name": "#%% md\n"
    }
   }
  },
  {
   "cell_type": "code",
   "execution_count": 37,
   "outputs": [
    {
     "name": "stdout",
     "output_type": "stream",
     "text": [
      "11\n",
      "16\n",
      "21\n"
     ]
    }
   ],
   "source": [
    "def incrementor(n):\n",
    "    return lambda x:x+n\n",
    "f_inc = incrementor(11)\n",
    "print(f_inc(0))\n",
    "print(f_inc(5))\n",
    "print(f_inc(10))"
   ],
   "metadata": {
    "collapsed": false,
    "pycharm": {
     "name": "#%%\n"
    }
   }
  },
  {
   "cell_type": "code",
   "execution_count": 43,
   "outputs": [
    {
     "data": {
      "text/plain": "[(4, 'four'), (1, 'one'), (3, 'three'), (2, 'two')]"
     },
     "execution_count": 43,
     "metadata": {},
     "output_type": "execute_result"
    }
   ],
   "source": [
    "# WTF? ... ok, we'll have to think about this later ...\n",
    "# ... what? the ...\n",
    "pairs = [(1, 'one'), (2, 'two'), (3, 'three'), (4, 'four')]\n",
    "pairs.sort(key=lambda pair: pair[1])\n",
    "pairs"
   ],
   "metadata": {
    "collapsed": false,
    "pycharm": {
     "name": "#%%\n"
    }
   }
  },
  {
   "cell_type": "markdown",
   "source": [
    "### Doc Strings & Function Annotations\n",
    "#### See PEP 3107 & PEP 484\n",
    "https://www.python.org/dev/peps/pep-3107/\n",
    "https://www.python.org/dev/peps/pep-0484/"
   ],
   "metadata": {
    "collapsed": false,
    "pycharm": {
     "name": "#%% md\n"
    }
   }
  },
  {
   "cell_type": "code",
   "execution_count": 3,
   "outputs": [
    {
     "name": "stdout",
     "output_type": "stream",
     "text": [
      "Prints out it's own annotations and doc strings!\n",
      "\n",
      "    Always have a blank line after the first doc string line, before\n",
      "    this line. This area is best used as an in-depth explanation\n",
      "    of the function\n",
      "    \n",
      "{'a': <class 'str'>, 'b': <class 'str'>, 'c': <class 'int'>, 'return': <class 'str'>}\n"
     ]
    }
   ],
   "source": [
    "# parameter annotations come after the parameter and colon as seen here.\n",
    "# Return type is noted after the function declaration with a -> [type]:\n",
    "# as seen here.\n",
    "def noted_function(a: str, b: str, c: int) -> str:\n",
    "    \"\"\"Prints out it's own annotations and doc strings!\n",
    "\n",
    "    Always have a blank line after the first doc string line, before\n",
    "    this line. This area is best used as an in-depth explanation\n",
    "    of the function\n",
    "    \"\"\"\n",
    "    print(noted_function.__doc__)\n",
    "    print(noted_function.__annotations__)\n",
    "\n",
    "noted_function('a string', 'b string', 44)"
   ],
   "metadata": {
    "collapsed": false,
    "pycharm": {
     "name": "#%%\n"
    }
   }
  }
 ],
 "metadata": {
  "kernelspec": {
   "name": "pycharm-8de6dcc2",
   "language": "python",
   "display_name": "PyCharm (terrastem)"
  },
  "language_info": {
   "codemirror_mode": {
    "name": "ipython",
    "version": 2
   },
   "file_extension": ".py",
   "mimetype": "text/x-python",
   "name": "python",
   "nbconvert_exporter": "python",
   "pygments_lexer": "ipython2",
   "version": "2.7.6"
  }
 },
 "nbformat": 4,
 "nbformat_minor": 0
}